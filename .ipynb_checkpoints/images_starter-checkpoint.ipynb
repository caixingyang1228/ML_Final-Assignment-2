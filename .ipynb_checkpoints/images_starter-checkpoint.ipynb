{
 "cells": [
  {
   "cell_type": "code",
   "execution_count": null,
   "metadata": {},
   "outputs": [],
   "source": [
    "import numpy as np\n",
    "import pandas as pd\n",
    "import matplotlib.pyplot as plt\n",
    "import pickle\n",
    "from skimage import io, color, img_as_bool, exposure, transform, feature\n",
    "%matplotlib inline"
   ]
  },
  {
   "cell_type": "markdown",
   "metadata": {},
   "source": [
    "### Download images (.zip, Google Drive, ~1GB) [here](https://drive.google.com/file/d/1MEx7txB-U7gpM6P58cOMmanW-SsbDw5v/view?usp=sharing)\n",
    "\n",
    "Save the zip where you want to store the images and unzip it"
   ]
  },
  {
   "cell_type": "code",
   "execution_count": null,
   "metadata": {},
   "outputs": [],
   "source": [
    "# file paths\n",
    "ci_path = '/plane_data/cropped_images/'\n",
    "\n",
    "l_file = '/plane_data/plane_labels.csv'"
   ]
  },
  {
   "cell_type": "code",
   "execution_count": null,
   "metadata": {},
   "outputs": [],
   "source": [
    "img_raw = io.imread('2016-10-10T19+44+49_610Z.png')\n",
    "print(img_raw.shape)\n",
    "io.imshow(img_raw);"
   ]
  },
  {
   "cell_type": "markdown",
   "metadata": {},
   "source": [
    "## scikit image\n",
    "\n",
    "#### helpful submodules and methods for image processing and feature extraction\n",
    "\n",
    "* [io](http://scikit-image.org/docs/dev/api/skimage.io.html)  \n",
    "* [color](http://scikit-image.org/docs/dev/api/skimage.color.html)  \n",
    "* [exposure](http://scikit-image.org/docs/dev/api/skimage.exposure.html)   \n",
    "* [transform](http://scikit-image.org/docs/dev/api/skimage.transform.html)   \n",
    "* [feature](http://scikit-image.org/docs/dev/api/skimage.feature.html)  \n",
    "* [img_as_bool](http://scikit-image.org/docs/dev/api/skimage.html#img-as-bool)   \n",
    "\n",
    "#### other resources\n",
    "\n",
    "* [RGBA](https://en.wikipedia.org/wiki/RGBA_color_space)  \n"
   ]
  },
  {
   "cell_type": "code",
   "execution_count": null,
   "metadata": {},
   "outputs": [],
   "source": [
    "# all labels\n",
    "plane_data = pd.read_csv(l_file)\n",
    "print(plane_data.head())\n",
    "print(plane_data.shape)"
   ]
  },
  {
   "cell_type": "markdown",
   "metadata": {},
   "source": [
    "### let's look at some images that contain an airplane"
   ]
  },
  {
   "cell_type": "code",
   "execution_count": null,
   "metadata": {},
   "outputs": [],
   "source": [
    "# filter to include only the airplane images\n",
    "print(plane_data['plane'].sum())\n",
    "aircraft = plane_data[plane_data['plane']==True]\n",
    "print(aircraft.shape)"
   ]
  },
  {
   "cell_type": "code",
   "execution_count": null,
   "metadata": {
    "scrolled": true
   },
   "outputs": [],
   "source": [
    "# take a random subset of 20 of the airplane images\n",
    "aircraft_subset = aircraft.sample(20)\n",
    "print(aircraft_subset.shape)"
   ]
  },
  {
   "cell_type": "code",
   "execution_count": null,
   "metadata": {},
   "outputs": [],
   "source": [
    "aircraft_subset.head()"
   ]
  },
  {
   "cell_type": "code",
   "execution_count": null,
   "metadata": {},
   "outputs": [],
   "source": [
    "# let's look at some transformed images of positives (airplanes)\n",
    "for index, row in aircraft_subset.iterrows():\n",
    "    imname = ci_path + row['img_name'] + '.png'\n",
    "    img_raw = io.imread(imname)\n",
    "    gray = color.rgb2gray(img_raw) # remove color\n",
    "    final_image = img_as_bool(gray) # convert grayscale to boolean\n",
    "    plt.figure()\n",
    "    io.imshow(final_image)"
   ]
  },
  {
   "cell_type": "markdown",
   "metadata": {},
   "source": [
    "### look at transformed images WITHOUT airplanes"
   ]
  },
  {
   "cell_type": "code",
   "execution_count": 1,
   "metadata": {},
   "outputs": [
    {
     "ename": "NameError",
     "evalue": "name 'plane_data' is not defined",
     "output_type": "error",
     "traceback": [
      "\u001b[0;31m---------------------------------------------------------------------------\u001b[0m",
      "\u001b[0;31mNameError\u001b[0m                                 Traceback (most recent call last)",
      "\u001b[0;32m<ipython-input-1-9823eab503a1>\u001b[0m in \u001b[0;36m<module>\u001b[0;34m\u001b[0m\n\u001b[1;32m      1\u001b[0m \u001b[0;31m# filter to include only NON airplane images\u001b[0m\u001b[0;34m\u001b[0m\u001b[0;34m\u001b[0m\u001b[0;34m\u001b[0m\u001b[0m\n\u001b[0;32m----> 2\u001b[0;31m \u001b[0mnonaircraft\u001b[0m \u001b[0;34m=\u001b[0m \u001b[0mplane_data\u001b[0m\u001b[0;34m[\u001b[0m\u001b[0mplane_data\u001b[0m\u001b[0;34m[\u001b[0m\u001b[0;34m'plane'\u001b[0m\u001b[0;34m]\u001b[0m\u001b[0;34m==\u001b[0m\u001b[0;32mFalse\u001b[0m\u001b[0;34m]\u001b[0m\u001b[0;34m\u001b[0m\u001b[0;34m\u001b[0m\u001b[0m\n\u001b[0m\u001b[1;32m      3\u001b[0m \u001b[0;31m# take a random subset of 20 of the NON airplane images\u001b[0m\u001b[0;34m\u001b[0m\u001b[0;34m\u001b[0m\u001b[0;34m\u001b[0m\u001b[0m\n\u001b[1;32m      4\u001b[0m \u001b[0mnonaircraft_subset\u001b[0m \u001b[0;34m=\u001b[0m \u001b[0mnonaircraft\u001b[0m\u001b[0;34m.\u001b[0m\u001b[0msample\u001b[0m\u001b[0;34m(\u001b[0m\u001b[0;36m20\u001b[0m\u001b[0;34m)\u001b[0m\u001b[0;34m\u001b[0m\u001b[0;34m\u001b[0m\u001b[0m\n\u001b[1;32m      5\u001b[0m \u001b[0mprint\u001b[0m\u001b[0;34m(\u001b[0m\u001b[0mnonaircraft_subset\u001b[0m\u001b[0;34m.\u001b[0m\u001b[0mshape\u001b[0m\u001b[0;34m)\u001b[0m\u001b[0;34m\u001b[0m\u001b[0;34m\u001b[0m\u001b[0m\n",
      "\u001b[0;31mNameError\u001b[0m: name 'plane_data' is not defined"
     ]
    }
   ],
   "source": [
    "# filter to include only NON airplane images\n",
    "nonaircraft = plane_data[plane_data['plane']==False]\n",
    "# take a random subset of 20 of the NON airplane images\n",
    "nonaircraft_subset = nonaircraft.sample(20)\n",
    "print(nonaircraft_subset.shape)\n",
    "\n",
    "# let's look at some transformed images of positives (airplanes)\n",
    "for index, row in nonaircraft_subset.iterrows():\n",
    "    imname = ci_path + row['img_name'] + '.png'\n",
    "    img_raw = io.imread(imname)\n",
    "    gray = color.rgb2gray(img_raw) # remove color\n",
    "    final_image = img_as_bool(gray) # convert grayscale to boolean\n",
    "    plt.figure()\n",
    "    io.imshow(final_image)"
   ]
  },
  {
   "cell_type": "code",
   "execution_count": null,
   "metadata": {},
   "outputs": [],
   "source": []
  },
  {
   "cell_type": "code",
   "execution_count": null,
   "metadata": {},
   "outputs": [],
   "source": []
  }
 ],
 "metadata": {
  "kernelspec": {
   "display_name": "Python 3",
   "language": "python",
   "name": "python3"
  },
  "language_info": {
   "codemirror_mode": {
    "name": "ipython",
    "version": 3
   },
   "file_extension": ".py",
   "mimetype": "text/x-python",
   "name": "python",
   "nbconvert_exporter": "python",
   "pygments_lexer": "ipython3",
   "version": "3.7.4"
  }
 },
 "nbformat": 4,
 "nbformat_minor": 2
}
